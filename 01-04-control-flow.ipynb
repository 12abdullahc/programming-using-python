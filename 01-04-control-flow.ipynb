{
  "nbformat": 4,
  "nbformat_minor": 0,
  "metadata": {
    "colab": {
      "provenance": [],
      "authorship_tag": "ABX9TyNeFMC4HQ+2g9Q5NJhdfXcJ",
      "include_colab_link": true
    },
    "kernelspec": {
      "name": "python3",
      "display_name": "Python 3"
    },
    "language_info": {
      "name": "python"
    }
  },
  "cells": [
    {
      "cell_type": "markdown",
      "metadata": {
        "id": "view-in-github",
        "colab_type": "text"
      },
      "source": [
        "<a href=\"https://colab.research.google.com/github/12abdullahc/programming-using-python/blob/main/01-04-control-flow.ipynb\" target=\"_parent\"><img src=\"https://colab.research.google.com/assets/colab-badge.svg\" alt=\"Open In Colab\"/></a>"
      ]
    },
    {
      "cell_type": "markdown",
      "source": [
        "# 1.4.2 Loops"
      ],
      "metadata": {
        "id": "S-BAhaJAAPym"
      }
    },
    {
      "cell_type": "markdown",
      "source": [
        "### 1. `while` Loops\n",
        "\n",
        "The `while` loop is the more general of the two looping constructs. It continues to execute a block of code as long as a specified Boolean condition remains `True`.\n",
        "\n",
        "#### Syntax and Execution Flow\n",
        "\n",
        "The syntax is:\n",
        "```python\n",
        "while condition:\n",
        "  # body of the loop\n",
        "```"
      ],
      "metadata": {
        "id": "YPf4cFo9HfYr"
      }
    },
    {
      "cell_type": "markdown",
      "source": [
        "A `while` loop is ideal when you want to repeat a block of code an unknown number of times, until a specific condition becomes false."
      ],
      "metadata": {
        "id": "W5SIiy6rPQ8S"
      }
    },
    {
      "cell_type": "markdown",
      "source": [
        "**Example:**"
      ],
      "metadata": {
        "id": "F3PeTjDuMcKZ"
      }
    },
    {
      "cell_type": "code",
      "source": [
        "# Goal: Countdown from 5 to 1\n",
        "\n",
        "count = 5  # 1. Initialization\n",
        "\n",
        "while count > 0:  # 2. Condition\n",
        "    print(count)\n",
        "    count -= 1  # 3. Progress Step"
      ],
      "metadata": {
        "colab": {
          "base_uri": "https://localhost:8080/"
        },
        "id": "SgN4XddIMYHE",
        "outputId": "8839bf2c-41c8-4816-c35d-5035f4096ec2"
      },
      "execution_count": null,
      "outputs": [
        {
          "output_type": "stream",
          "name": "stdout",
          "text": [
            "5\n",
            "4\n",
            "3\n",
            "2\n",
            "1\n"
          ]
        }
      ]
    },
    {
      "cell_type": "markdown",
      "source": [
        "**Explanation:**\n",
        "1. **Initialization:** `count` is set to `5` before the loop begins.\n",
        "2. **Condition:** The loop checks `while count > 0` before each iteration.\n",
        "3. **Progress:** `count -= 1` ensure that loop makes progress toward the condition becoming false. If this line were ommited, it would be an infinite loop."
      ],
      "metadata": {
        "id": "HHDF8pbVNS2t"
      }
    }
  ]
}