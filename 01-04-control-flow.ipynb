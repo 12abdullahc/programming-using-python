{
  "nbformat": 4,
  "nbformat_minor": 0,
  "metadata": {
    "colab": {
      "provenance": [],
      "authorship_tag": "ABX9TyOkRAAyDM2Itm/OEfa49bIl",
      "include_colab_link": true
    },
    "kernelspec": {
      "name": "python3",
      "display_name": "Python 3"
    },
    "language_info": {
      "name": "python"
    }
  },
  "cells": [
    {
      "cell_type": "markdown",
      "metadata": {
        "id": "view-in-github",
        "colab_type": "text"
      },
      "source": [
        "<a href=\"https://colab.research.google.com/github/12abdullahc/programming-using-python/blob/main/01-04-control-flow.ipynb\" target=\"_parent\"><img src=\"https://colab.research.google.com/assets/colab-badge.svg\" alt=\"Open In Colab\"/></a>"
      ]
    },
    {
      "cell_type": "markdown",
      "source": [
        "# 1.4.2 Loops"
      ],
      "metadata": {
        "id": "S-BAhaJAAPym"
      }
    },
    {
      "cell_type": "markdown",
      "source": [
        "### 1. `while` Loops"
      ],
      "metadata": {
        "id": "s7siaVNeU6yn"
      }
    },
    {
      "cell_type": "markdown",
      "source": [
        "The `while` loop is the more general of the two looping constructs. It continues to execute a block of code as long as a specified Boolean condition remains `True`."
      ],
      "metadata": {
        "id": "K7bvh2AVU-lM"
      }
    },
    {
      "cell_type": "markdown",
      "source": [
        "#### Syntax and Execution Flow\n",
        "\n",
        "The syntax is:\n",
        "```python\n",
        "while condition:\n",
        "  # body of the loop\n",
        "```\n",
        "The execution works as follows:\n",
        "1. The `condition` is evaluated.\n",
        "2. If the condition is `True`, the indented `body` of the loop is executed.\n",
        "3. After the body finishes, the process returns to step 1, and the condition is re-evaluated.\n",
        "4. If the condition is `False`, the loop terminated, and the program continues with the code that follows the loop."
      ],
      "metadata": {
        "id": "YPf4cFo9HfYr"
      }
    },
    {
      "cell_type": "markdown",
      "source": [
        "A `while` loop is ideal when you want to repeat a block of code an unknown number of times, until a specific condition becomes false."
      ],
      "metadata": {
        "id": "W5SIiy6rPQ8S"
      }
    },
    {
      "cell_type": "markdown",
      "source": [
        "**Example:**"
      ],
      "metadata": {
        "id": "F3PeTjDuMcKZ"
      }
    },
    {
      "cell_type": "code",
      "source": [
        "# Goal: Countdown from 5 to 1\n",
        "\n",
        "count = 5  # 1. Initialization\n",
        "\n",
        "while count > 0:  # 2. Condition\n",
        "    print(count)\n",
        "    count -= 1  # 3. Progress Step"
      ],
      "metadata": {
        "colab": {
          "base_uri": "https://localhost:8080/"
        },
        "id": "SgN4XddIMYHE",
        "outputId": "8839bf2c-41c8-4816-c35d-5035f4096ec2"
      },
      "execution_count": null,
      "outputs": [
        {
          "output_type": "stream",
          "name": "stdout",
          "text": [
            "5\n",
            "4\n",
            "3\n",
            "2\n",
            "1\n"
          ]
        }
      ]
    },
    {
      "cell_type": "markdown",
      "source": [
        "**Explanation:**\n",
        "1. **Initialization:** `count` is set to `5` before the loop begins.\n",
        "2. **Condition:** The loop checks `while count > 0` before each iteration.\n",
        "3. **Progress:** `count -= 1` ensure that loop makes progress toward the condition becoming false. If this line were ommited, it would be an infinite loop."
      ],
      "metadata": {
        "id": "HHDF8pbVNS2t"
      }
    },
    {
      "cell_type": "markdown",
      "source": [
        "### 2. `for` Loops"
      ],
      "metadata": {
        "id": "iJ-iVI0Eb6Qi"
      }
    },
    {
      "cell_type": "markdown",
      "source": [
        "The `for` loop is a more specialized and convenient construct designed for iterating through a series of elements in an **iterable** structure (like a list, string, tuple, set, or file)."
      ],
      "metadata": {
        "id": "9hfUk-dCcAk7"
      }
    },
    {
      "cell_type": "markdown",
      "source": [
        "#### Syntax and Execution Flow\n",
        "\n",
        "The syntax is:\n",
        "```python\n",
        "for element in iterable:\n",
        "  # body of the loop\n",
        "```\n",
        "The execution works as follows:\n",
        "1. The `for` loop requests an *iterator* from the `iterable`.\n",
        "2. In each iteration, it asks the iterator for the next element.\n",
        "3. This element is assigned to the loop variable (`element` in the syntax above).\n",
        "4. The indented `body` of the loop is executed.\n",
        "5. This process repeats for every element in the iterable. When there are no more elements, the loop terminates."
      ],
      "metadata": {
        "id": "RaxpuUqbQhkP"
      }
    },
    {
      "cell_type": "markdown",
      "source": [
        "A `for` loop is perfect for when you want to perform an action on *each item* in a collection or sequence."
      ],
      "metadata": {
        "id": "ay6vxlecUfzd"
      }
    },
    {
      "cell_type": "markdown",
      "source": [
        "**Example:**"
      ],
      "metadata": {
        "id": "u70Iw5vVWXrG"
      }
    },
    {
      "cell_type": "code",
      "source": [
        "# Goal: Iterate through a list of fruits and print their name and length.\n",
        "\n",
        "fruits = [\"apple\", \"banana\", \"cherry\", \"date\"]\n",
        "\n",
        "for fruit in fruits:\n",
        "  length = len(fruit)\n",
        "  print(f\"- The fruit '{fruit}' has {length} letters.\")"
      ],
      "metadata": {
        "colab": {
          "base_uri": "https://localhost:8080/"
        },
        "id": "xPtKY85FWli9",
        "outputId": "6b2633ef-c309-4c8d-8037-2e9502eb2237"
      },
      "execution_count": null,
      "outputs": [
        {
          "output_type": "stream",
          "name": "stdout",
          "text": [
            "- The fruit 'apple' has 5 letters.\n",
            "- The fruit 'banana' has 6 letters.\n",
            "- The fruit 'cherry' has 6 letters.\n",
            "- The fruit 'date' has 4 letters.\n"
          ]
        }
      ]
    },
    {
      "cell_type": "markdown",
      "source": [
        "**Explanation:**\n",
        "\n",
        "The `for` loop is much more concise than a `while` loop for this task. It automatically handles getting the next item from the `fruits` list and assigning it to the `fruit` variable. There is no need to manually manage an index."
      ],
      "metadata": {
        "id": "NqsI_nA6YuIE"
      }
    },
    {
      "cell_type": "markdown",
      "source": [
        "### 3. Index-Based `for` Loops"
      ],
      "metadata": {
        "id": "5bQT9K3P32WK"
      }
    },
    {
      "cell_type": "markdown",
      "source": [
        "Sometimes, you need to know not just the element but also its **index** within the sequence. For this, the textbook introduces a common Python idiom using the `range` class.\n",
        "*   `range(n)` generates a sequence of integers from `0` to `n-1`.\n",
        "*   This is perfect for creating a loop that iterates through the valid indices of a sequence of length `n`."
      ],
      "metadata": {
        "id": "2SHixa2-4P-5"
      }
    },
    {
      "cell_type": "markdown",
      "source": [
        "#### Finding the Index of the Maximum Element\n",
        "\n",
        "```python\n",
        "big_index = 0\n",
        "for j in range(len(data)):\n",
        "    if data[j] > data[big_index]:\n",
        "        big_index = j\n",
        "```\n",
        "*   `for j in range(len(data))`: This loop doesn't iterate over the *elements* of `data` directly. Instead, `j` takes on the values `0, 1, 2, ...` up to `len(data)-1`.\n",
        "*   `data[j]`: Inside the loop, we use the index `j` to access the corresponding element from the list. This allows us to both work with the element's value and know its position."
      ],
      "metadata": {
        "id": "_JX5kcxW4wIh"
      }
    },
    {
      "cell_type": "markdown",
      "source": [
        "This is a variation of the `for` loop used when you need both the element *and its index* within the sequence."
      ],
      "metadata": {
        "id": "0z5WfOCuBbZt"
      }
    },
    {
      "cell_type": "code",
      "source": [
        "# Goal: Display a list of tasks with their corresponding numbers (1, 2, 3...).\n",
        "\n",
        "tasks = [\"Pay bills\", \"Walk the dog\", \"Buy groceries\", \"Call mom\"]\n",
        "\n",
        "print(\"To-Do List:\")\n",
        "for i in range(len(tasks)):\n",
        "    task = tasks[i]\n",
        "    print(f\"{i + 1}. {task}\")"
      ],
      "metadata": {
        "id": "GFi2_WDIBm7M",
        "outputId": "c7fc0bb2-4196-48c9-9e9a-b877d852884d",
        "colab": {
          "base_uri": "https://localhost:8080/"
        }
      },
      "execution_count": null,
      "outputs": [
        {
          "output_type": "stream",
          "name": "stdout",
          "text": [
            "To-Do List:\n",
            "1. Pay bills\n",
            "2. Walk the dog\n",
            "3. Buy groceries\n",
            "4. Call mom\n"
          ]
        }
      ]
    },
    {
      "cell_type": "markdown",
      "source": [
        "**Explanation:**\n",
        "The `range(len(tasks))` idiom provides a sequence of indices `0, 1, 2, 3`. In each iteration, `i` holds the current index, which we use to access the element `tasks[i]` and to display the task number."
      ],
      "metadata": {
        "id": "UrWAohWFCM3m"
      }
    },
    {
      "cell_type": "code",
      "source": [
        "# MotoGP Rider List:\n",
        "# 1. Marc Marquez\n",
        "# 2. Fabio Quartararo\n",
        "# 3. Francesco Bagnala"
      ],
      "metadata": {
        "id": "aJFBnQg5OA6G"
      },
      "execution_count": null,
      "outputs": []
    },
    {
      "cell_type": "code",
      "source": [
        "riders = [\"Marc Marquez\", \"Fabio Quartararo\", \"Francesco Bagnala\"]\n",
        "\n",
        "for rider in riders:\n",
        "  print(rider)"
      ],
      "metadata": {
        "colab": {
          "base_uri": "https://localhost:8080/"
        },
        "id": "qWarh4a6OqHr",
        "outputId": "fc0fbf56-a917-4faa-abd8-dfc2cb8c8f00"
      },
      "execution_count": 17,
      "outputs": [
        {
          "output_type": "stream",
          "name": "stdout",
          "text": [
            "Marc Marquez\n",
            "Fabio Quartararo\n",
            "Francesco Bagnala\n"
          ]
        }
      ]
    },
    {
      "cell_type": "code",
      "source": [
        "riders = [\"Marc Marquez\", \"Fabio Quartararo\", \"Francesco Bagnala\"]\n",
        "\n",
        "number = 1\n",
        "\n",
        "for rider in riders:\n",
        "  print(f\"{number}. {rider}\")\n",
        "  number += 1"
      ],
      "metadata": {
        "colab": {
          "base_uri": "https://localhost:8080/"
        },
        "id": "jknY6QkHPhu_",
        "outputId": "69c95f5d-e136-4c40-d53f-0dfff1f8091d"
      },
      "execution_count": 19,
      "outputs": [
        {
          "output_type": "stream",
          "name": "stdout",
          "text": [
            "1. Marc Marquez\n",
            "2. Fabio Quartararo\n",
            "3. Francesco Bagnala\n"
          ]
        }
      ]
    },
    {
      "cell_type": "code",
      "source": [
        "riders = [\"Marc Marquez\", \"Fabio Quartararo\", \"Francesco Bagnala\"]\n",
        "\n",
        "for i in range(len(riders)):\n",
        "  rider = riders[i]\n",
        "  print(f\"{i}. {rider}\")"
      ],
      "metadata": {
        "colab": {
          "base_uri": "https://localhost:8080/"
        },
        "id": "KUssoeY4P0gF",
        "outputId": "c450f1ec-b022-4e42-cdc6-21c6d189859b"
      },
      "execution_count": 22,
      "outputs": [
        {
          "output_type": "stream",
          "name": "stdout",
          "text": [
            "0. Marc Marquez\n",
            "1. Fabio Quartararo\n",
            "2. Francesco Bagnala\n"
          ]
        }
      ]
    },
    {
      "cell_type": "code",
      "source": [
        "riders = [\"Marc Marquez\", \"Fabio Quartararo\", \"Francesco Bagnala\"]\n",
        "\n",
        "print(\"MotoGP Riders List:\")\n",
        "for i in range(len(riders)):\n",
        "  rider = riders[i]\n",
        "  print(f\"{i + 1}. {rider}\")"
      ],
      "metadata": {
        "colab": {
          "base_uri": "https://localhost:8080/"
        },
        "id": "n1ShftQnRDeu",
        "outputId": "744c9691-e511-4370-9ed8-61f2cedca7f0"
      },
      "execution_count": 25,
      "outputs": [
        {
          "output_type": "stream",
          "name": "stdout",
          "text": [
            "MotoGP Riders List:\n",
            "1. Marc Marquez\n",
            "2. Fabio Quartararo\n",
            "3. Francesco Bagnala\n"
          ]
        }
      ]
    }
  ]
}