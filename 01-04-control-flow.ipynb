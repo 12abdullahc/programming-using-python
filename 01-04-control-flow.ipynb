{
  "nbformat": 4,
  "nbformat_minor": 0,
  "metadata": {
    "colab": {
      "provenance": [],
      "authorship_tag": "ABX9TyM0e7Uh4pygilywP9kyC/DR",
      "include_colab_link": true
    },
    "kernelspec": {
      "name": "python3",
      "display_name": "Python 3"
    },
    "language_info": {
      "name": "python"
    }
  },
  "cells": [
    {
      "cell_type": "markdown",
      "metadata": {
        "id": "view-in-github",
        "colab_type": "text"
      },
      "source": [
        "<a href=\"https://colab.research.google.com/github/12abdullahc/programming-using-python/blob/main/01-04-control-flow.ipynb\" target=\"_parent\"><img src=\"https://colab.research.google.com/assets/colab-badge.svg\" alt=\"Open In Colab\"/></a>"
      ]
    },
    {
      "cell_type": "markdown",
      "source": [
        "# 1.4.2 Loops"
      ],
      "metadata": {
        "id": "S-BAhaJAAPym"
      }
    },
    {
      "cell_type": "markdown",
      "source": [
        "### 1. `while` Loops"
      ],
      "metadata": {
        "id": "s7siaVNeU6yn"
      }
    },
    {
      "cell_type": "markdown",
      "source": [
        "The `while` loop is the more general of the two looping constructs. It continues to execute a block of code as long as a specified Boolean condition remains `True`."
      ],
      "metadata": {
        "id": "K7bvh2AVU-lM"
      }
    },
    {
      "cell_type": "markdown",
      "source": [
        "#### Syntax and Execution Flow\n",
        "\n",
        "The syntax is:\n",
        "```python\n",
        "while condition:\n",
        "  # body of the loop\n",
        "```\n",
        "The execution works as follows:\n",
        "1. The `condition` is evaluated.\n",
        "2. If the condition is `True`, the indented `body` of the loop is executed.\n",
        "3. After the body finishes, the process returns to step 1, and the condition is re-evaluated.\n",
        "4. If the condition is `False`, the loop terminated, and the program continues with the code that follows the loop."
      ],
      "metadata": {
        "id": "YPf4cFo9HfYr"
      }
    },
    {
      "cell_type": "markdown",
      "source": [
        "A `while` loop is ideal when you want to repeat a block of code an unknown number of times, until a specific condition becomes false."
      ],
      "metadata": {
        "id": "W5SIiy6rPQ8S"
      }
    },
    {
      "cell_type": "markdown",
      "source": [
        "**Example:**"
      ],
      "metadata": {
        "id": "F3PeTjDuMcKZ"
      }
    },
    {
      "cell_type": "code",
      "source": [
        "# Goal: Countdown from 5 to 1\n",
        "\n",
        "count = 5  # 1. Initialization\n",
        "\n",
        "while count > 0:  # 2. Condition\n",
        "    print(count)\n",
        "    count -= 1  # 3. Progress Step"
      ],
      "metadata": {
        "colab": {
          "base_uri": "https://localhost:8080/"
        },
        "id": "SgN4XddIMYHE",
        "outputId": "8839bf2c-41c8-4816-c35d-5035f4096ec2"
      },
      "execution_count": null,
      "outputs": [
        {
          "output_type": "stream",
          "name": "stdout",
          "text": [
            "5\n",
            "4\n",
            "3\n",
            "2\n",
            "1\n"
          ]
        }
      ]
    },
    {
      "cell_type": "markdown",
      "source": [
        "**Explanation:**\n",
        "1. **Initialization:** `count` is set to `5` before the loop begins.\n",
        "2. **Condition:** The loop checks `while count > 0` before each iteration.\n",
        "3. **Progress:** `count -= 1` ensure that loop makes progress toward the condition becoming false. If this line were ommited, it would be an infinite loop."
      ],
      "metadata": {
        "id": "HHDF8pbVNS2t"
      }
    },
    {
      "cell_type": "markdown",
      "source": [
        "### 2. `for` Loops"
      ],
      "metadata": {
        "id": "iJ-iVI0Eb6Qi"
      }
    },
    {
      "cell_type": "markdown",
      "source": [
        "The `for` loop is a more specialized and convenient construct designed for iterating through a series of elements in an **iterable** structure (like a list, string, tuple, set, or file)."
      ],
      "metadata": {
        "id": "9hfUk-dCcAk7"
      }
    },
    {
      "cell_type": "markdown",
      "source": [
        "#### Syntax and Execution Flow\n",
        "\n",
        "The syntax is:\n",
        "```python\n",
        "for element in iterable:\n",
        "  # body of the loop\n",
        "```\n",
        "The execution works as follows:\n",
        "1. The `for` loop requests an *iterator* from the `iterable`.\n",
        "2. In each iteration, it asks the iterator for the next element.\n",
        "3. This element is assigned to the loop variable (`element` in the syntax above).\n",
        "4. The indented `body` of the loop is executed.\n",
        "5. This process repeats for every element in the iterable. When there are no more elements, the loop terminates."
      ],
      "metadata": {
        "id": "RaxpuUqbQhkP"
      }
    },
    {
      "cell_type": "markdown",
      "source": [
        "A `for` loop is perfect for when you want to perform an action on *each item* in a collection or sequence."
      ],
      "metadata": {
        "id": "ay6vxlecUfzd"
      }
    },
    {
      "cell_type": "markdown",
      "source": [
        "**Example:**"
      ],
      "metadata": {
        "id": "u70Iw5vVWXrG"
      }
    },
    {
      "cell_type": "code",
      "source": [
        "# Goal: Iterate through a list of fruits and print their name and length.\n",
        "\n",
        "fruits = [\"apple\", \"banana\", \"cherry\", \"date\"]\n",
        "\n",
        "for fruit in fruits:\n",
        "  length = len(fruit)\n",
        "  print(f\"- The fruit '{fruit}' has {length} letters.\")"
      ],
      "metadata": {
        "colab": {
          "base_uri": "https://localhost:8080/"
        },
        "id": "xPtKY85FWli9",
        "outputId": "6b2633ef-c309-4c8d-8037-2e9502eb2237"
      },
      "execution_count": null,
      "outputs": [
        {
          "output_type": "stream",
          "name": "stdout",
          "text": [
            "- The fruit 'apple' has 5 letters.\n",
            "- The fruit 'banana' has 6 letters.\n",
            "- The fruit 'cherry' has 6 letters.\n",
            "- The fruit 'date' has 4 letters.\n"
          ]
        }
      ]
    },
    {
      "cell_type": "markdown",
      "source": [
        "**Explanation:**\n",
        "\n",
        "The `for` loop is much more concise than a `while` loop for this task. It automatically handles getting the next item from the `fruits` list and assigning it to the `fruit` variable. There is no need to manually manage an index."
      ],
      "metadata": {
        "id": "NqsI_nA6YuIE"
      }
    },
    {
      "cell_type": "markdown",
      "source": [
        "### 3. Index-Based `for` Loops"
      ],
      "metadata": {
        "id": "5bQT9K3P32WK"
      }
    },
    {
      "cell_type": "markdown",
      "source": [
        "Sometimes, you need to know not just the element but also its **index** within the sequence. For this, the textbook introduces a common Python idiom using the `range` class.\n",
        "*   `range(n)` generates a sequence of integers from `0` to `n-1`.\n",
        "*   This is perfect for creating a loop that iterates through the valid indices of a sequence of length `n`."
      ],
      "metadata": {
        "id": "2SHixa2-4P-5"
      }
    },
    {
      "cell_type": "markdown",
      "source": [
        "#### Finding the Index of the Maximum Element\n",
        "\n",
        "```python\n",
        "big_index = 0\n",
        "for j in range(len(data)):\n",
        "    if data[j] > data[big_index]:\n",
        "        big_index = j\n",
        "```\n",
        "*   `for j in range(len(data))`: This loop doesn't iterate over the *elements* of `data` directly. Instead, `j` takes on the values `0, 1, 2, ...` up to `len(data)-1`.\n",
        "*   `data[j]`: Inside the loop, we use the index `j` to access the corresponding element from the list. This allows us to both work with the element's value and know its position."
      ],
      "metadata": {
        "id": "_JX5kcxW4wIh"
      }
    },
    {
      "cell_type": "markdown",
      "source": [
        "This is a variation of the `for` loop used when you need both the element *and its index* within the sequence."
      ],
      "metadata": {
        "id": "0z5WfOCuBbZt"
      }
    },
    {
      "cell_type": "code",
      "source": [
        "# Goal: Display a list of tasks with their corresponding numbers (1, 2, 3...).\n",
        "\n",
        "tasks = [\"Pay bills\", \"Walk the dog\", \"Buy groceries\", \"Call mom\"]\n",
        "\n",
        "print(\"To-Do List:\")\n",
        "for i in range(len(tasks)):\n",
        "    task = tasks[i]\n",
        "    print(f\"{i + 1}. {task}\")"
      ],
      "metadata": {
        "id": "GFi2_WDIBm7M",
        "outputId": "c7fc0bb2-4196-48c9-9e9a-b877d852884d",
        "colab": {
          "base_uri": "https://localhost:8080/"
        }
      },
      "execution_count": null,
      "outputs": [
        {
          "output_type": "stream",
          "name": "stdout",
          "text": [
            "To-Do List:\n",
            "1. Pay bills\n",
            "2. Walk the dog\n",
            "3. Buy groceries\n",
            "4. Call mom\n"
          ]
        }
      ]
    },
    {
      "cell_type": "markdown",
      "source": [
        "**Explanation:**\n",
        "\n",
        "The `range(len(tasks))` idiom provides a sequence of indices `0, 1, 2, 3`. In each iteration, `i` holds the current index, which we use to access the element `tasks[i]` and to display the task number."
      ],
      "metadata": {
        "id": "UrWAohWFCM3m"
      }
    },
    {
      "cell_type": "markdown",
      "source": [
        "### 4. Controlling Loop Flow: `break` and `continue`"
      ],
      "metadata": {
        "id": "RElAATMShFRQ"
      }
    },
    {
      "cell_type": "markdown",
      "source": [
        "Python provides two statements to alter the standard flow of a loop."
      ],
      "metadata": {
        "id": "HpeAb0aNhQy_"
      }
    },
    {
      "cell_type": "markdown",
      "source": [
        "#### `break` Statement"
      ],
      "metadata": {
        "id": "TgvF-706j47g"
      }
    },
    {
      "cell_type": "markdown",
      "source": [
        "This statement **immediately terminates** the innermost enclosing `while` or `for` loop. The program's execution continues at the first statement after the loop body.\n",
        "  ```python\n",
        "  found = False\n",
        "  for item in data:\n",
        "    if item == target:\n",
        "      found = True\n",
        "      break  # Exit the loop immediately, no need to check further\n",
        "  ```"
      ],
      "metadata": {
        "id": "i3c_9pvohlIX"
      }
    },
    {
      "cell_type": "markdown",
      "source": [
        "`break` is used to exit a loop immediately, regardless of the loop's condition."
      ],
      "metadata": {
        "id": "dyPVQ7Vria-R"
      }
    },
    {
      "cell_type": "markdown",
      "source": [
        "**Example:**"
      ],
      "metadata": {
        "id": "bqK-6ozvjEmw"
      }
    },
    {
      "cell_type": "code",
      "source": [
        "# Goal: Find 'report.pdf' in a list of files and stop searching.\n",
        "\n",
        "filenames = [\"document.txt\", \"image.jpg\", \"report.pdf\", \"archive.zip\"]\n",
        "target_file = \"report.pdf\"\n",
        "\n",
        "print(f\"Searching for {target_file}...\")\n",
        "for filename in filenames:\n",
        "    print(f\"  Checking {filename}...\")\n",
        "    if filename == target_file:\n",
        "        print(f\"Success! Found {target_file}.\")\n",
        "        break\n",
        "\n",
        "print(\"Search finished.\")"
      ],
      "metadata": {
        "colab": {
          "base_uri": "https://localhost:8080/"
        },
        "id": "AFm-zoJSjNmQ",
        "outputId": "eaec5227-1bdc-4eba-f84a-8455b4477a2f"
      },
      "execution_count": null,
      "outputs": [
        {
          "output_type": "stream",
          "name": "stdout",
          "text": [
            "Searching for report.pdf...\n",
            "  Checking document.txt...\n",
            "  Checking image.jpg...\n",
            "  Checking report.pdf...\n",
            "Success! Found report.pdf.\n",
            "Search finished.\n"
          ]
        }
      ]
    },
    {
      "cell_type": "markdown",
      "source": [
        "**Explanation:**\n",
        "\n",
        "Notice that `\"archive.zip\"` was never checked. As soon as `report.pdf` was found, the `break` statement terminated the `for` loop immediately."
      ],
      "metadata": {
        "id": "gjRXFypejJZv"
      }
    },
    {
      "cell_type": "markdown",
      "source": [
        "#### `continue` Statement"
      ],
      "metadata": {
        "id": "SGvNIPe9kI64"
      }
    },
    {
      "cell_type": "markdown",
      "source": [
        "This statement **skips the rest of the current iteration** and proceeds directly to the beginning of the next iteration. The loop's condition is tested again (for `while` loops), or the next element is processed (for `for` loops).\n",
        "  ```python\n",
        "  for num in data:\n",
        "    if num % 2 != 0:\n",
        "      continue      # skip the print statement and go to the next number\n",
        "    print(num)\n",
        "  ```"
      ],
      "metadata": {
        "id": "g-UaDsSljWBo"
      }
    },
    {
      "cell_type": "markdown",
      "source": [
        "`continue` is used to skip the rest of the current iteration and move directly to the next one."
      ],
      "metadata": {
        "id": "VfcMsG1Gktf3"
      }
    },
    {
      "cell_type": "markdown",
      "source": [
        "**Example:**"
      ],
      "metadata": {
        "id": "01JK77N9k5LY"
      }
    },
    {
      "cell_type": "code",
      "source": [
        "# Goal: Calculate the average of only the valid scores in a list.\n",
        "\n",
        "scores = [88, 92, -5, 74, 100, -10, 95]\n",
        "valid_scores = []\n",
        "\n",
        "print(\"Processing scores...\")\n",
        "for score in scores:\n",
        "    if score < 0:\n",
        "        print(f\"  Invalid score detected: {score}. Skipping.\")\n",
        "        continue  # Skip this iteration and go to the next score.\n",
        "\n",
        "    # This code only runs if the 'continue' was not executed.\n",
        "    print(f\"  Valid score: {score}. Adding to list.\")\n",
        "    valid_scores.append(score)\n",
        "\n",
        "average = sum(valid_scores) / len(valid_scores)\n",
        "print(f\"\\nAverage of valid scores: {average:.2f}\")"
      ],
      "metadata": {
        "colab": {
          "base_uri": "https://localhost:8080/"
        },
        "id": "bdaTONjskvJ2",
        "outputId": "88fdb9e3-f471-41b4-8bfd-bef32a91ae9f"
      },
      "execution_count": null,
      "outputs": [
        {
          "output_type": "stream",
          "name": "stdout",
          "text": [
            "Processing scores...\n",
            "  Valid score: 88. Adding to list.\n",
            "  Valid score: 92. Adding to list.\n",
            "  Invalid score detected: -5. Skipping.\n",
            "  Valid score: 74. Adding to list.\n",
            "  Valid score: 100. Adding to list.\n",
            "  Invalid score detected: -10. Skipping.\n",
            "  Valid score: 95. Adding to list.\n",
            "\n",
            "Average of valid scores: 89.80\n"
          ]
        }
      ]
    },
    {
      "cell_type": "markdown",
      "source": [
        "**Explanation:**\n",
        "\n",
        "When the loop encountered `-5` and `-10`, the `if` condition was true, and the `continue` statement caused the loop to immediately start the next iteration, skipping the `append` line."
      ],
      "metadata": {
        "id": "MExahAgEk8Pv"
      }
    },
    {
      "cell_type": "code",
      "source": [],
      "metadata": {
        "id": "jZkNLIM0K3Gl"
      },
      "execution_count": null,
      "outputs": []
    },
    {
      "cell_type": "code",
      "source": [],
      "metadata": {
        "id": "VPrzWjqoK4aG"
      },
      "execution_count": null,
      "outputs": []
    },
    {
      "cell_type": "code",
      "source": [
        "while True:\n",
        "  try:\n",
        "    age = int(input(\"Please enter your age (1-120): \"))\n",
        "\n",
        "    if 1 <= age <= 120:\n",
        "      break\n",
        "    else:\n",
        "      print(\"The age is out of range. Please try again.\")\n",
        "  except:\n",
        "    print(\"Invalid input. Please enter a number.\")"
      ],
      "metadata": {
        "colab": {
          "base_uri": "https://localhost:8080/"
        },
        "id": "Si6pWipxK4Lz",
        "outputId": "c921718d-3676-4ad2-ff90-f54875dc0c63"
      },
      "execution_count": null,
      "outputs": [
        {
          "name": "stdout",
          "output_type": "stream",
          "text": [
            "Please enter your age (1-120): 25\n"
          ]
        }
      ]
    },
    {
      "cell_type": "code",
      "source": [
        "choice = \"\"\n",
        "\n",
        "while choice.lower() != 'q':\n",
        "  print(\"\\n--- Main Menu ---\")\n",
        "  print(\"1. View Profile\")\n",
        "  print(\"2. Edit Settings\")\n",
        "  print(\"q. Quit Program\")\n",
        "\n",
        "  choice = input(\"Enter your choice: \")\n",
        "\n",
        "  if choice.lower() == '1':\n",
        "    print(\"\\n-> Displaying user profile...\")\n",
        "  elif choice.lower() == '2':\n",
        "    print(\"\\n-> Opening settings...\")\n",
        "  elif choice.lower() == 'q':\n",
        "    print(\"\\n-> Goodbye!\")\n",
        "  else:\n",
        "    print(\"\\n-> Invalid choice. Please try again.\")"
      ],
      "metadata": {
        "colab": {
          "base_uri": "https://localhost:8080/"
        },
        "id": "7BNmuVoTcFpT",
        "outputId": "72cd6601-572f-4635-ae05-cf8ecc0553d8"
      },
      "execution_count": null,
      "outputs": [
        {
          "output_type": "stream",
          "name": "stdout",
          "text": [
            "\n",
            "--- Main Menu ---\n",
            "1. View Profile\n",
            "2. Edit Settings\n",
            "q. Quit Program\n",
            "Enter your choice: Q\n",
            "\n",
            "-> Goodbye!\n"
          ]
        }
      ]
    },
    {
      "cell_type": "code",
      "source": [
        "import random\n",
        "\n",
        "secret_number = random.randint(1, 100)\n",
        "guess = 0  # Initialize to a value that cannot be the secret number\n",
        "attempts = 0\n",
        "\n",
        "print(\"I'm thinking of a number between 1 and 100.\")\n",
        "\n",
        "# Loop as long as the guess is not correct\n",
        "while guess != secret_number:\n",
        "    try:\n",
        "        guess = int(input(\"What is your guess? \"))\n",
        "        attempts += 1 # Increment attempt counter\n",
        "\n",
        "        if guess < secret_number:\n",
        "            print(\"Too low! Try again.\")\n",
        "        elif guess > secret_number:\n",
        "            print(\"Too high! Try again.\")\n",
        "\n",
        "    except ValueError:\n",
        "        print(\"That's not a number! Try again.\")\n",
        "\n",
        "# This line is only reached after the loop terminates (when guess == secret_number)\n",
        "print(f\"You got it! The number was {secret_number}.\")\n",
        "print(f\"It took you {attempts} attempts.\")"
      ],
      "metadata": {
        "colab": {
          "base_uri": "https://localhost:8080/"
        },
        "id": "oM_T6m-DAqWP",
        "outputId": "d69bf59a-43ee-454f-fb2b-e7ccd42d7dd3"
      },
      "execution_count": null,
      "outputs": [
        {
          "output_type": "stream",
          "name": "stdout",
          "text": [
            "I'm thinking of a number between 1 and 100.\n",
            "What is your guess? 46\n",
            "Too low! Try again.\n",
            "What is your guess? 50\n",
            "Too low! Try again.\n",
            "What is your guess? 70\n",
            "Too low! Try again.\n",
            "What is your guess? 80\n",
            "Too low! Try again.\n",
            "What is your guess? 90\n",
            "Too high! Try again.\n",
            "What is your guess? 85\n",
            "Too high! Try again.\n",
            "What is your guess? 83\n",
            "You got it! The number was 83.\n",
            "It took you 7 attempts.\n"
          ]
        }
      ]
    },
    {
      "cell_type": "code",
      "source": [
        "import random\n",
        "\n",
        "secret_number = random.randint(1, 10)\n",
        "guess = 0\n",
        "attempts = 0\n",
        "\n",
        "while guess != secret_number:\n",
        "  try:\n",
        "    guess = int(input(\"What is your guess? \"))\n",
        "    attempts += 1\n",
        "\n",
        "    if guess < secret_number:\n",
        "      print(\"Too low! Try again.\")\n",
        "    elif guess > secret_number:\n",
        "      print(\"Too high! Try again.\")\n",
        "  except ValueError:\n",
        "    print(\"That's not a number! Try again.\")\n",
        "\n",
        "print(f\"\\nYou got it! The number was {secret_number}.\")\n",
        "print(f\"It took you {attempts} attempts.\")\n"
      ],
      "metadata": {
        "id": "vRp28u0DDBey",
        "colab": {
          "base_uri": "https://localhost:8080/"
        },
        "outputId": "313a0452-0a49-49dc-aaf2-09a5e888a874"
      },
      "execution_count": 13,
      "outputs": [
        {
          "output_type": "stream",
          "name": "stdout",
          "text": [
            "What is your guess? hh\n",
            "That's not a number! Try again.\n",
            "What is your guess? 11\n",
            "Too high! Try again.\n",
            "What is your guess? 1\n",
            "Too low! Try again.\n",
            "What is your guess? 2\n",
            "Too low! Try again.\n",
            "What is your guess? 3\n",
            "Too low! Try again.\n",
            "What is your guess? 4\n",
            "Too low! Try again.\n",
            "What is your guess? 5\n",
            "Too low! Try again.\n",
            "What is your guess? 6\n",
            "Too low! Try again.\n",
            "What is your guess? 7\n",
            "Too low! Try again.\n",
            "What is your guess? 7\n",
            "Too low! Try again.\n",
            "What is your guess? 8\n",
            "Too low! Try again.\n",
            "What is your guess? 9\n",
            "\n",
            "You got it! The number was 9.\n",
            "It took you 11 attempts.\n"
          ]
        }
      ]
    }
  ]
}